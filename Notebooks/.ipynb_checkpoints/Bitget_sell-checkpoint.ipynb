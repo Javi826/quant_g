{
 "cells": [
  {
   "cell_type": "code",
   "execution_count": null,
   "id": "c9bdcb12-087a-4c5e-8fd2-c363f05ff03d",
   "metadata": {},
   "outputs": [],
   "source": [
    "import ccxt\n",
    "from datetime import datetime\n",
    "\n",
    "# -----------------------------\n",
    "# BITGET PRINCIPAL Y SUBCUENTA\n",
    "# -----------------------------\n",
    "BITGET_API_KEY    = \"bg_2bc2e932d97d668ffab340da4b90bd36\"\n",
    "BITGET_API_SECRET = \"dbc3a88fdefac6c4cb38363baa49c09ebe9d5a34bda56168a8c7ce1665e7cb9d\"\n",
    "BITGET_API_PASS   = \"Cryptobitget86\"\n",
    "\n",
    "BITGET_API_KEY    = \"bg_afdcb9221ad98efb3b0b7bdd4c236338\"\n",
    "BITGET_API_SECRET = \"0c4214cbfccfb648f841b43ca5d68531c8fb44b75ab271fdd222da9a74ee413f\"\n",
    "BITGET_API_PASS   = \"Cryptobitget86\"\n",
    "\n",
    "# -----------------------------\n",
    "# CONNECT TO BITGET\n",
    "# -----------------------------\n",
    "exchange = ccxt.bitget({\n",
    "    'apiKey': BITGET_API_KEY,\n",
    "    'secret': BITGET_API_SECRET,\n",
    "    'password': BITGET_API_PASS,\n",
    "    'enableRateLimit': True\n",
    "})\n",
    "\n",
    "# -----------------------------\n",
    "# GET BALANCES AND SELL\n",
    "# -----------------------------\n",
    "balances = exchange.fetch_balance()\n",
    "\n",
    "for coin, info in balances['total'].items():\n",
    "    if coin == 'USDT':\n",
    "        continue  # saltamos USDT\n",
    "    amount = info\n",
    "    if amount and amount > 0:\n",
    "        symbol = f\"{coin}/USDT\"\n",
    "        try:\n",
    "            order = exchange.create_order(symbol, type='market', side='sell', amount=amount)\n",
    "            now = datetime.utcnow()\n",
    "            print(f\"🕒 {now} - Sold {amount:.6f} {coin} for USDT\")\n",
    "        except Exception as e:\n",
    "            print(f\"⚠️ Error selling {coin}: {e}\")"
   ]
  }
 ],
 "metadata": {
  "kernelspec": {
   "display_name": "Python 3 (ipykernel)",
   "language": "python",
   "name": "python3"
  },
  "language_info": {
   "codemirror_mode": {
    "name": "ipython",
    "version": 3
   },
   "file_extension": ".py",
   "mimetype": "text/x-python",
   "name": "python",
   "nbconvert_exporter": "python",
   "pygments_lexer": "ipython3",
   "version": "3.10.14"
  }
 },
 "nbformat": 4,
 "nbformat_minor": 5
}
