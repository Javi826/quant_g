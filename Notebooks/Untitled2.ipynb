{
 "cells": [
  {
   "cell_type": "code",
   "execution_count": 11,
   "id": "2ddb0330-79f1-47ec-8fcc-10d5b32be9ac",
   "metadata": {},
   "outputs": [
    {
     "name": "stdout",
     "output_type": "stream",
     "text": [
      "[{'timestamp': 1758357600000, 'open': 115824.6, 'high': 115826.7, 'low': 115819.3, 'close': 115825.0, 'base_volume': 96.98885973, 'quote_volume': 11233806.63326411}, {'timestamp': 1758357900000, 'open': 115825.0, 'high': 115827.5, 'low': 115802.6, 'close': 115802.6, 'base_volume': 24.98127542, 'quote_volume': 2893189.848068804}, {'timestamp': 1758358200000, 'open': 115802.6, 'high': 115802.7, 'low': 115723.3, 'close': 115723.4, 'base_volume': 101.91031383, 'quote_volume': 11796206.466867069}, {'timestamp': 1758358500000, 'open': 115723.4, 'high': 115723.4, 'low': 115641.4, 'close': 115645.2, 'base_volume': 106.73460514, 'quote_volume': 12346867.268467817}, {'timestamp': 1758358800000, 'open': 115645.2, 'high': 115672.4, 'low': 115640.5, 'close': 115672.4, 'base_volume': 38.18247237, 'quote_volume': 4416003.856416538}, {'timestamp': 1758359100000, 'open': 115672.4, 'high': 115731.6, 'low': 115672.3, 'close': 115731.5, 'base_volume': 54.97125499, 'quote_volume': 6360207.960548448}, {'timestamp': 1758359400000, 'open': 115731.5, 'high': 115732.8, 'low': 115731.5, 'close': 115732.8, 'base_volume': 13.67678187, 'quote_volume': 1582848.715901059}, {'timestamp': 1758359700000, 'open': 115732.8, 'high': 115743.9, 'low': 115732.7, 'close': 115740.4, 'base_volume': 23.4865205, 'quote_volume': 2718340.411475821}, {'timestamp': 1758360000000, 'open': 115740.4, 'high': 115740.5, 'low': 115695.0, 'close': 115703.8, 'base_volume': 31.46417707, 'quote_volume': 3640963.529284277}, {'timestamp': 1758360300000, 'open': 115703.8, 'high': 115725.4, 'low': 115697.9, 'close': 115697.9, 'base_volume': 28.11911177, 'quote_volume': 3253897.714191486}, {'timestamp': 1758360600000, 'open': 115697.9, 'high': 115698.0, 'low': 115654.3, 'close': 115654.4, 'base_volume': 15.42737178, 'quote_volume': 1784668.454360983}, {'timestamp': 1758360900000, 'open': 115654.4, 'high': 115654.4, 'low': 115608.9, 'close': 115629.3, 'base_volume': 73.31902721, 'quote_volume': 8477547.177775247}, {'timestamp': 1758361200000, 'open': 115629.3, 'high': 115629.3, 'low': 115610.5, 'close': 115610.6, 'base_volume': 26.74963344, 'quote_volume': 3092679.759835454}, {'timestamp': 1758361500000, 'open': 115610.6, 'high': 115624.1, 'low': 115610.5, 'close': 115624.0, 'base_volume': 18.93565272, 'quote_volume': 2189207.292537609}, {'timestamp': 1758361800000, 'open': 115624.0, 'high': 115637.0, 'low': 115615.8, 'close': 115636.9, 'base_volume': 30.10723547, 'quote_volume': 3481102.282059035}, {'timestamp': 1758362100000, 'open': 115636.9, 'high': 115637.0, 'low': 115610.9, 'close': 115611.2, 'base_volume': 18.57564014, 'quote_volume': 2147783.740579649}, {'timestamp': 1758362400000, 'open': 115611.2, 'high': 115685.0, 'low': 115611.1, 'close': 115684.9, 'base_volume': 50.37426588, 'quote_volume': 5826171.717872559}, {'timestamp': 1758362700000, 'open': 115684.9, 'high': 115685.0, 'low': 115658.9, 'close': 115675.2, 'base_volume': 143.52287178, 'quote_volume': 16601973.75492016}, {'timestamp': 1758363000000, 'open': 115675.2, 'high': 115709.7, 'low': 115675.1, 'close': 115693.3, 'base_volume': 24.05672549, 'quote_volume': 2783325.675159457}, {'timestamp': 1758363300000, 'open': 115693.3, 'high': 115729.6, 'low': 115693.3, 'close': 115697.1, 'base_volume': 23.57334906, 'quote_volume': 2727843.309396877}, {'timestamp': 1758363600000, 'open': 115697.1, 'high': 115732.5, 'low': 115693.0, 'close': 115693.0, 'base_volume': 23.29240393, 'quote_volume': 2695233.878144516}, {'timestamp': 1758363900000, 'open': 115693.0, 'high': 115693.0, 'low': 115649.2, 'close': 115679.0, 'base_volume': 15.32849393, 'quote_volume': 1772950.83552221}, {'timestamp': 1758364200000, 'open': 115679.0, 'high': 115679.0, 'low': 115662.1, 'close': 115662.2, 'base_volume': 8.50896622, 'quote_volume': 984196.81421934}, {'timestamp': 1758364500000, 'open': 115662.2, 'high': 115723.3, 'low': 115662.1, 'close': 115723.2, 'base_volume': 22.16983758, 'quote_volume': 2564730.777525427}, {'timestamp': 1758364800000, 'open': 115723.2, 'high': 115723.3, 'low': 115716.5, 'close': 115722.1, 'base_volume': 20.48007362, 'quote_volume': 2369970.508821302}, {'timestamp': 1758365100000, 'open': 115722.1, 'high': 115740.5, 'low': 115698.9, 'close': 115698.9, 'base_volume': 43.00112445, 'quote_volume': 4976836.690971515}, {'timestamp': 1758365400000, 'open': 115698.9, 'high': 115709.3, 'low': 115686.1, 'close': 115694.0, 'base_volume': 16.38580492, 'quote_volume': 1895769.237369844}, {'timestamp': 1758365700000, 'open': 115694.0, 'high': 115694.0, 'low': 115693.9, 'close': 115693.9, 'base_volume': 13.33059042, 'quote_volume': 1542268.455468651}, {'timestamp': 1758366000000, 'open': 115693.9, 'high': 115759.6, 'low': 115693.9, 'close': 115748.4, 'base_volume': 36.21534928, 'quote_volume': 4191763.479020732}, {'timestamp': 1758366300000, 'open': 115748.4, 'high': 115768.3, 'low': 115740.3, 'close': 115768.3, 'base_volume': 19.82882021, 'quote_volume': 2295311.320674883}, {'timestamp': 1758366600000, 'open': 115768.3, 'high': 115789.4, 'low': 115768.2, 'close': 115789.4, 'base_volume': 27.44631521, 'quote_volume': 3177575.156417172}, {'timestamp': 1758366900000, 'open': 115789.4, 'high': 115796.0, 'low': 115773.3, 'close': 115791.7, 'base_volume': 88.68678419, 'quote_volume': 10269112.747756522}, {'timestamp': 1758367200000, 'open': 115791.7, 'high': 115796.6, 'low': 115750.4, 'close': 115796.5, 'base_volume': 37.26948544, 'quote_volume': 4315061.483357666}, {'timestamp': 1758367500000, 'open': 115796.5, 'high': 115796.6, 'low': 115740.4, 'close': 115740.4, 'base_volume': 78.56772573, 'quote_volume': 9094298.508446336}, {'timestamp': 1758367800000, 'open': 115740.4, 'high': 115783.1, 'low': 115727.0, 'close': 115740.4, 'base_volume': 62.79401213, 'quote_volume': 7268597.009916118}, {'timestamp': 1758368100000, 'open': 115740.4, 'high': 115762.7, 'low': 115740.0, 'close': 115762.7, 'base_volume': 10.3455724, 'quote_volume': 1197459.153520545}, {'timestamp': 1758368400000, 'open': 115762.7, 'high': 115771.1, 'low': 115762.6, 'close': 115771.1, 'base_volume': 54.87383719, 'quote_volume': 6352639.311816248}, {'timestamp': 1758368700000, 'open': 115771.1, 'high': 115830.0, 'low': 115771.0, 'close': 115830.0, 'base_volume': 42.42866814, 'quote_volume': 4914004.79023276}, {'timestamp': 1758369000000, 'open': 115830.0, 'high': 115864.0, 'low': 115829.9, 'close': 115864.0, 'base_volume': 42.51115272, 'quote_volume': 4924777.90139064}, {'timestamp': 1758369300000, 'open': 115864.0, 'high': 115866.9, 'low': 115830.0, 'close': 115841.1, 'base_volume': 58.89989927, 'quote_volume': 6824020.43960345}, {'timestamp': 1758369600000, 'open': 115841.1, 'high': 115905.0, 'low': 115841.1, 'close': 115867.1, 'base_volume': 212.05286828, 'quote_volume': 24575199.007184956}, {'timestamp': 1758369900000, 'open': 115867.1, 'high': 115867.1, 'low': 115849.1, 'close': 115849.2, 'base_volume': 44.60010803, 'quote_volume': 5167371.088806155}, {'timestamp': 1758370200000, 'open': 115849.2, 'high': 115873.3, 'low': 115849.1, 'close': 115854.9, 'base_volume': 22.54325423, 'quote_volume': 2611649.264979585}, {'timestamp': 1758370500000, 'open': 115854.9, 'high': 115873.3, 'low': 115850.8, 'close': 115850.8, 'base_volume': 23.63549565, 'quote_volume': 2738400.412627402}, {'timestamp': 1758370800000, 'open': 115850.8, 'high': 115850.9, 'low': 115780.2, 'close': 115799.4, 'base_volume': 55.07804843, 'quote_volume': 6377988.732522673}, {'timestamp': 1758371100000, 'open': 115799.4, 'high': 115799.5, 'low': 115765.7, 'close': 115765.8, 'base_volume': 43.09914104, 'quote_volume': 4990242.501381937}, {'timestamp': 1758371400000, 'open': 115765.8, 'high': 115780.2, 'low': 115765.7, 'close': 115780.1, 'base_volume': 24.86503105, 'quote_volume': 2878671.708514154}, {'timestamp': 1758371700000, 'open': 115780.1, 'high': 115788.0, 'low': 115748.0, 'close': 115787.9, 'base_volume': 36.81049869, 'quote_volume': 4261301.628290957}, {'timestamp': 1758372000000, 'open': 115787.9, 'high': 115791.2, 'low': 115784.3, 'close': 115784.4, 'base_volume': 8.00586416, 'quote_volume': 926985.666556215}, {'timestamp': 1758372300000, 'open': 115784.4, 'high': 115812.2, 'low': 115784.3, 'close': 115812.2, 'base_volume': 5.55917716, 'quote_volume': 643732.629448888}]\n"
     ]
    }
   ],
   "source": [
    "import requests\n",
    "\n",
    "symbol = \"BTCUSDT\"           # símbolo del contrato\n",
    "product_type = \"USDT-FUTURES\"\n",
    "granularity = \"5m\"           # intervalo de vela\n",
    "limit = 50                   # cuántas velas traer\n",
    "\n",
    "url = \"https://api.bitget.com/api/v2/mix/market/candles\"\n",
    "\n",
    "params = {\n",
    "    \"symbol\": symbol,\n",
    "    \"productType\": product_type,\n",
    "    \"granularity\": granularity,\n",
    "    \"limit\": limit\n",
    "}\n",
    "\n",
    "res = requests.get(url, params=params)\n",
    "response = res.json()\n",
    "\n",
    "if response.get(\"code\") == \"00000\":\n",
    "    data = response.get(\"data\", [])\n",
    "    \n",
    "    ohlcv = []\n",
    "    for candle in data:\n",
    "        ohlcv.append({\n",
    "            \"timestamp\": int(candle[0]),\n",
    "            \"open\": float(candle[1]),\n",
    "            \"high\": float(candle[2]),\n",
    "            \"low\": float(candle[3]),\n",
    "            \"close\": float(candle[4]),\n",
    "            \"base_volume\": float(candle[5]),\n",
    "            \"quote_volume\": float(candle[6])\n",
    "        })\n",
    "    \n",
    "    print(ohlcv)\n",
    "else:\n",
    "    print(\"Error en la API:\", response)\n"
   ]
  },
  {
   "cell_type": "code",
   "execution_count": null,
   "id": "49b6fa36-d966-403c-b225-73cdf02d5b6f",
   "metadata": {},
   "outputs": [],
   "source": []
  }
 ],
 "metadata": {
  "kernelspec": {
   "display_name": "Python 3 (ipykernel)",
   "language": "python",
   "name": "python3"
  },
  "language_info": {
   "codemirror_mode": {
    "name": "ipython",
    "version": 3
   },
   "file_extension": ".py",
   "mimetype": "text/x-python",
   "name": "python",
   "nbconvert_exporter": "python",
   "pygments_lexer": "ipython3",
   "version": "3.10.14"
  }
 },
 "nbformat": 4,
 "nbformat_minor": 5
}
